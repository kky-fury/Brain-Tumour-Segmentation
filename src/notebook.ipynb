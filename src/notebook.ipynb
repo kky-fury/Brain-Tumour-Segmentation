{
 "cells": [
  {
   "cell_type": "code",
   "execution_count": null,
   "metadata": {},
   "outputs": [],
   "source": [
    "import data\n",
    "import matplotlib.pyplot as plt\n",
    "%matplotlib inline\n",
    "plt.rcParams['figure.figsize'] = (10.0, 8.0) # set default size of plots\n",
    "plt.rcParams['image.interpolation'] = 'nearest'\n",
    "plt.rcParams['image.cmap'] = 'gray'\n",
    "\n",
    "%load_ext autoreload\n",
    "%autoreload 2"
   ]
  },
  {
   "cell_type": "markdown",
   "metadata": {},
   "source": [
    "# Convert dataset to tfrecords"
   ]
  },
  {
   "cell_type": "code",
   "execution_count": null,
   "metadata": {
    "scrolled": true
   },
   "outputs": [],
   "source": [
    "data.all_to_tf_records()"
   ]
  },
  {
   "cell_type": "markdown",
   "metadata": {},
   "source": [
    "# Data pipeline"
   ]
  },
  {
   "cell_type": "code",
   "execution_count": null,
   "metadata": {
    "collapsed": true,
    "scrolled": false
   },
   "outputs": [],
   "source": [
    "from util import merge_arrays, image_grid\n",
    "tf.reset_default_graph()\n",
    "dataset = data.get_dataset(\"../images/train.tfrecord\")\n",
    "\n",
    "imgs, gts = data.load_batch(dataset, batch_size=10, is_training=False)\n",
    "\n",
    "with tf.Session() as sess:\n",
    "    imgs_array, gts_array = sess.run([imgs, gts])\n",
    "\n",
    "image_grid(\n",
    "    el_list=merge_arrays(imgs_array, gts_array), \n",
    "    img_fn=lambda x: x[:, :, 0], \n",
    "    label_fn=lambda x: \"\", \n",
    "    per_col=2, \n",
    "    mul=7\n",
    ")"
   ]
  },
  {
   "cell_type": "markdown",
   "metadata": {},
   "source": [
    "# Data Augmentation"
   ]
  },
  {
   "cell_type": "code",
   "execution_count": null,
   "metadata": {
    "collapsed": true,
    "scrolled": false
   },
   "outputs": [],
   "source": [
    "imgs, gts = data.load_batch(dataset, batch_size=10, is_training=True)\n",
    "\n",
    "with tf.Session() as sess:\n",
    "    imgs_array, gts_array = sess.run([imgs, gts])\n",
    "\n",
    "image_grid(\n",
    "    el_list=merge_arrays(imgs_array, gts_array), \n",
    "    img_fn=lambda x: x[:, :, 0], \n",
    "    label_fn=lambda x: \"\", \n",
    "    per_col=2, \n",
    "    mul=7\n",
    ")"
   ]
  },
  {
   "cell_type": "code",
   "execution_count": null,
   "metadata": {
    "scrolled": false
   },
   "outputs": [],
   "source": [
    "#reset flags, if rerunning cell\n",
    "import argparse\n",
    "import tensorflow as tf\n",
    "tf.app.flags.FLAGS = tf.app.flags._FlagValues()\n",
    "tf.app.flags._global_parser = argparse.ArgumentParser()\n",
    "\n",
    "import train\n",
    "\n",
    "tf.reset_default_graph()\n",
    "train.train()"
   ]
  },
  {
   "cell_type": "code",
   "execution_count": null,
   "metadata": {
    "collapsed": true
   },
   "outputs": [],
   "source": []
  }
 ],
 "metadata": {
  "kernelspec": {
   "display_name": "Python 3",
   "language": "python",
   "name": "python3"
  },
  "language_info": {
   "codemirror_mode": {
    "name": "ipython",
    "version": 3
   },
   "file_extension": ".py",
   "mimetype": "text/x-python",
   "name": "python",
   "nbconvert_exporter": "python",
   "pygments_lexer": "ipython3",
   "version": "3.6.4"
  }
 },
 "nbformat": 4,
 "nbformat_minor": 2
}
